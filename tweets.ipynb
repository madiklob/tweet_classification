{
 "cells": [
  {
   "cell_type": "code",
   "execution_count": 867,
   "metadata": {},
   "outputs": [
    {
     "name": "stderr",
     "output_type": "stream",
     "text": [
      "[nltk_data] Downloading package punkt to\n",
      "[nltk_data]     /Users/madikloberdanz/nltk_data...\n",
      "[nltk_data]   Package punkt is already up-to-date!\n",
      "[nltk_data] Downloading package stopwords to\n",
      "[nltk_data]     /Users/madikloberdanz/nltk_data...\n",
      "[nltk_data]   Package stopwords is already up-to-date!\n"
     ]
    }
   ],
   "source": [
    "import numpy as np\n",
    "\n",
    "# Using the natural language tookit for pre-processing\n",
    "import nltk \n",
    "import re\n",
    "\n",
    "from nltk.corpus import stopwords\n",
    "from nltk.tokenize import word_tokenize\n",
    "from nltk.stem import PorterStemmer\n",
    "\n",
    "nltk.download('punkt')                # Tokenization package (word separators)\n",
    "nltk.download('stopwords')            # Stopwords package (words with neutral connotation)\n",
    "\n",
    "\n",
    "# We will be using sci-kit learn for vectorization, training, and testing\n",
    "from sklearn.naive_bayes import MultinomialNB\n",
    "from sklearn.feature_extraction.text import CountVectorizer\n",
    "from sklearn.metrics import classification_report\n",
    "\n",
    "# Imports for graphing\n",
    "import pandas as pd\n",
    "import seaborn as sns\n",
    "import matplotlib.pyplot as plt\n"
   ]
  },
  {
   "cell_type": "markdown",
   "metadata": {},
   "source": [
    "Read the CSV file with tweets into a DataFrame."
   ]
  },
  {
   "cell_type": "code",
   "execution_count": 868,
   "metadata": {},
   "outputs": [
    {
     "data": {
      "text/html": [
       "<div>\n",
       "<style scoped>\n",
       "    .dataframe tbody tr th:only-of-type {\n",
       "        vertical-align: middle;\n",
       "    }\n",
       "\n",
       "    .dataframe tbody tr th {\n",
       "        vertical-align: top;\n",
       "    }\n",
       "\n",
       "    .dataframe thead th {\n",
       "        text-align: right;\n",
       "    }\n",
       "</style>\n",
       "<table border=\"1\" class=\"dataframe\">\n",
       "  <thead>\n",
       "    <tr style=\"text-align: right;\">\n",
       "      <th></th>\n",
       "      <th>Tweet</th>\n",
       "      <th>Suicide</th>\n",
       "    </tr>\n",
       "  </thead>\n",
       "  <tbody>\n",
       "    <tr>\n",
       "      <th>0</th>\n",
       "      <td>making some lunch</td>\n",
       "      <td>NOT_SUICIDE_POST</td>\n",
       "    </tr>\n",
       "    <tr>\n",
       "      <th>1</th>\n",
       "      <td>@Alexia You want his money.</td>\n",
       "      <td>NOT_SUICIDE_POST</td>\n",
       "    </tr>\n",
       "    <tr>\n",
       "      <th>2</th>\n",
       "      <td>@dizzyhrvy that crap took me forever to put to...</td>\n",
       "      <td>POTENTIAL_SUICIDE_POST</td>\n",
       "    </tr>\n",
       "    <tr>\n",
       "      <th>3</th>\n",
       "      <td>@jnaylor #kiwitweets Hey Jer! Since when did y...</td>\n",
       "      <td>NOT_SUICIDE_POST</td>\n",
       "    </tr>\n",
       "    <tr>\n",
       "      <th>4</th>\n",
       "      <td>Trying out &amp;quot;Delicious Library 2&amp;quot; wit...</td>\n",
       "      <td>NOT_SUICIDE_POST</td>\n",
       "    </tr>\n",
       "  </tbody>\n",
       "</table>\n",
       "</div>"
      ],
      "text/plain": [
       "                                               Tweet                 Suicide\n",
       "0                                  making some lunch        NOT_SUICIDE_POST\n",
       "1                        @Alexia You want his money.        NOT_SUICIDE_POST\n",
       "2  @dizzyhrvy that crap took me forever to put to...  POTENTIAL_SUICIDE_POST\n",
       "3  @jnaylor #kiwitweets Hey Jer! Since when did y...        NOT_SUICIDE_POST\n",
       "4  Trying out &quot;Delicious Library 2&quot; wit...        NOT_SUICIDE_POST"
      ]
     },
     "execution_count": 868,
     "metadata": {},
     "output_type": "execute_result"
    }
   ],
   "source": [
    "tweets_df = pd.read_csv(\"Suicide_Ideation_Dataset(Twitter-based).csv\")\n",
    "\n",
    "upper_labels = []\n",
    "\n",
    "# Make labels uppercase and underscored for clarity\n",
    "for id in tweets_df[\"Suicide\"].values:\n",
    "  if id == \"Not Suicide post\":\n",
    "    upper_labels.append(\"NOT_SUICIDE_POST\")\n",
    "  else:\n",
    "    upper_labels.append(\"POTENTIAL_SUICIDE_POST\")\n",
    "\n",
    "tweets_df[\"Suicide\"] = upper_labels\n",
    "\n",
    "import pandas as pd\n",
    "\n",
    "# Assuming tweets_df is your DataFrame containing the \"Tweet\" column\n",
    "tweets_df = tweets_df.dropna(subset=[\"Tweet\"])\n",
    "\n",
    "tweets_df.head()"
   ]
  },
  {
   "cell_type": "markdown",
   "metadata": {},
   "source": [
    "### Pre-process the words by doing:\n",
    "1. Tokenization\n",
    "2. Lowercasing\n",
    "3. Removing stop words\n",
    "4. Removing punctuation, emojis, or special characters\n",
    "5. Stemming words so that words like \"regret\" and \"regretted\" are treated the same"
   ]
  },
  {
   "cell_type": "code",
   "execution_count": 869,
   "metadata": {},
   "outputs": [
    {
     "data": {
      "text/html": [
       "<div>\n",
       "<style scoped>\n",
       "    .dataframe tbody tr th:only-of-type {\n",
       "        vertical-align: middle;\n",
       "    }\n",
       "\n",
       "    .dataframe tbody tr th {\n",
       "        vertical-align: top;\n",
       "    }\n",
       "\n",
       "    .dataframe thead th {\n",
       "        text-align: right;\n",
       "    }\n",
       "</style>\n",
       "<table border=\"1\" class=\"dataframe\">\n",
       "  <thead>\n",
       "    <tr style=\"text-align: right;\">\n",
       "      <th></th>\n",
       "      <th>Tweet</th>\n",
       "      <th>Suicide</th>\n",
       "      <th>Pre-processed</th>\n",
       "    </tr>\n",
       "  </thead>\n",
       "  <tbody>\n",
       "    <tr>\n",
       "      <th>0</th>\n",
       "      <td>making some lunch</td>\n",
       "      <td>NOT_SUICIDE_POST</td>\n",
       "      <td>[make, lunch]</td>\n",
       "    </tr>\n",
       "    <tr>\n",
       "      <th>1</th>\n",
       "      <td>@Alexia You want his money.</td>\n",
       "      <td>NOT_SUICIDE_POST</td>\n",
       "      <td>[alexia, want, money]</td>\n",
       "    </tr>\n",
       "    <tr>\n",
       "      <th>2</th>\n",
       "      <td>@dizzyhrvy that crap took me forever to put to...</td>\n",
       "      <td>POTENTIAL_SUICIDE_POST</td>\n",
       "      <td>[dizzyhrvi, crap, took, forev, put, togeth, iâ...</td>\n",
       "    </tr>\n",
       "    <tr>\n",
       "      <th>3</th>\n",
       "      <td>@jnaylor #kiwitweets Hey Jer! Since when did y...</td>\n",
       "      <td>NOT_SUICIDE_POST</td>\n",
       "      <td>[jnaylor, kiwitweet, hey, jer, sinc, start, tw...</td>\n",
       "    </tr>\n",
       "    <tr>\n",
       "      <th>4</th>\n",
       "      <td>Trying out &amp;quot;Delicious Library 2&amp;quot; wit...</td>\n",
       "      <td>NOT_SUICIDE_POST</td>\n",
       "      <td>[tri, quot, delici, librari, quot, mix, result...</td>\n",
       "    </tr>\n",
       "    <tr>\n",
       "      <th>...</th>\n",
       "      <td>...</td>\n",
       "      <td>...</td>\n",
       "      <td>...</td>\n",
       "    </tr>\n",
       "    <tr>\n",
       "      <th>1782</th>\n",
       "      <td>i have forgotten how much i love my Nokia N95-1</td>\n",
       "      <td>NOT_SUICIDE_POST</td>\n",
       "      <td>[forgotten, much, love, nokia, n95-1]</td>\n",
       "    </tr>\n",
       "    <tr>\n",
       "      <th>1783</th>\n",
       "      <td>Starting my day out with a positive attitude! ...</td>\n",
       "      <td>NOT_SUICIDE_POST</td>\n",
       "      <td>[start, day, posit, attitud, great, watch, great]</td>\n",
       "    </tr>\n",
       "    <tr>\n",
       "      <th>1784</th>\n",
       "      <td>@belledame222 Hey, it's 5 am...give a girl som...</td>\n",
       "      <td>NOT_SUICIDE_POST</td>\n",
       "      <td>[belledame222, hey, give, girl, credit, tri]</td>\n",
       "    </tr>\n",
       "    <tr>\n",
       "      <th>1785</th>\n",
       "      <td>2 drunken besties stumble into my room and we ...</td>\n",
       "      <td>NOT_SUICIDE_POST</td>\n",
       "      <td>[drunken, besti, stumbl, room, run, around, so...</td>\n",
       "    </tr>\n",
       "    <tr>\n",
       "      <th>1786</th>\n",
       "      <td>@dancingbonita &amp;quot;I friggin love you!!!&amp;quo...</td>\n",
       "      <td>NOT_SUICIDE_POST</td>\n",
       "      <td>[dancingbonita, quot, friggin, love, quot, bur...</td>\n",
       "    </tr>\n",
       "  </tbody>\n",
       "</table>\n",
       "<p>1785 rows × 3 columns</p>\n",
       "</div>"
      ],
      "text/plain": [
       "                                                  Tweet  \\\n",
       "0                                     making some lunch   \n",
       "1                           @Alexia You want his money.   \n",
       "2     @dizzyhrvy that crap took me forever to put to...   \n",
       "3     @jnaylor #kiwitweets Hey Jer! Since when did y...   \n",
       "4     Trying out &quot;Delicious Library 2&quot; wit...   \n",
       "...                                                 ...   \n",
       "1782    i have forgotten how much i love my Nokia N95-1   \n",
       "1783  Starting my day out with a positive attitude! ...   \n",
       "1784  @belledame222 Hey, it's 5 am...give a girl som...   \n",
       "1785  2 drunken besties stumble into my room and we ...   \n",
       "1786  @dancingbonita &quot;I friggin love you!!!&quo...   \n",
       "\n",
       "                     Suicide  \\\n",
       "0           NOT_SUICIDE_POST   \n",
       "1           NOT_SUICIDE_POST   \n",
       "2     POTENTIAL_SUICIDE_POST   \n",
       "3           NOT_SUICIDE_POST   \n",
       "4           NOT_SUICIDE_POST   \n",
       "...                      ...   \n",
       "1782        NOT_SUICIDE_POST   \n",
       "1783        NOT_SUICIDE_POST   \n",
       "1784        NOT_SUICIDE_POST   \n",
       "1785        NOT_SUICIDE_POST   \n",
       "1786        NOT_SUICIDE_POST   \n",
       "\n",
       "                                          Pre-processed  \n",
       "0                                         [make, lunch]  \n",
       "1                                 [alexia, want, money]  \n",
       "2     [dizzyhrvi, crap, took, forev, put, togeth, iâ...  \n",
       "3     [jnaylor, kiwitweet, hey, jer, sinc, start, tw...  \n",
       "4     [tri, quot, delici, librari, quot, mix, result...  \n",
       "...                                                 ...  \n",
       "1782              [forgotten, much, love, nokia, n95-1]  \n",
       "1783  [start, day, posit, attitud, great, watch, great]  \n",
       "1784       [belledame222, hey, give, girl, credit, tri]  \n",
       "1785  [drunken, besti, stumbl, room, run, around, so...  \n",
       "1786  [dancingbonita, quot, friggin, love, quot, bur...  \n",
       "\n",
       "[1785 rows x 3 columns]"
      ]
     },
     "execution_count": 869,
     "metadata": {},
     "output_type": "execute_result"
    }
   ],
   "source": [
    "\n",
    "# Set of stop words\n",
    "stop_words = set(stopwords.words('english'))\n",
    "\n",
    "# Getting our stemmer\n",
    "stemmer = PorterStemmer()\n",
    "\n",
    "def preprocessor(tweets_df) -> list:\n",
    "\n",
    "    # List to store tokenized words from all tweets\n",
    "    tokenized_tweets = []                                       \n",
    "    \n",
    "    for tweet in tweets_df[\"Tweet\"].values:\n",
    "        if type(tweet) == str:\n",
    "\n",
    "            # Lowercase and tokenize all words so that comparison is easy\n",
    "            tweet_as_list = word_tokenize(tweet.lower())\n",
    "\n",
    "            # Use a list comprehension to get rid of special characters\n",
    "            words = [word for word in tweet_as_list if not re.match(r'[^a-z](,)?', word)]\n",
    "\n",
    "            # Remove stop words\n",
    "            filtered_words = [word for word in words if word not in stop_words]\n",
    "\n",
    "            # Stem the words\n",
    "            stemmed_words = [stemmer.stem(word) for word in filtered_words]\n",
    "\n",
    "            # Finally, append to the list\n",
    "            tokenized_tweets.append(stemmed_words)\n",
    "            \n",
    "        else:\n",
    "\n",
    "            # In the 2 cases in the dataset where the tweet is not a string, just append it\n",
    "            tokenized_tweets.append(tweet)\n",
    "\n",
    "    return tokenized_tweets\n",
    "\n",
    "# Using pre-processor\n",
    "words_list = preprocessor(tweets_df)\n",
    "tweets_df[\"Pre-processed\"] = words_list\n",
    "\n",
    "tweets_df"
   ]
  },
  {
   "cell_type": "markdown",
   "metadata": {},
   "source": [
    "Now that the tweets are pre-processed, we can begin to find some meaning in them. Let's start making a classifier by first separating the data into a training and testing set. We will do 80% training and 20% testing after shuffling the tweets just in case they are in any particular order."
   ]
  },
  {
   "cell_type": "code",
   "execution_count": 870,
   "metadata": {},
   "outputs": [],
   "source": [
    "# Shuffle and reset the index so that we can easily grab the first 80% and bottom 20%\n",
    "shuffled_tweets = tweets_df.sample(frac=1).reset_index()\n",
    "\n",
    "# Assign training data set - first 80%\n",
    "first_80p = int(len(tweets_df) * 0.8)\n",
    "train_data = shuffled_tweets.iloc[np.arange(first_80p), :]\n",
    "\n",
    "# Assign testing data set - bottom 20%\n",
    "test_data = shuffled_tweets.iloc[np.arange(first_80p, len(shuffled_tweets)), :]"
   ]
  },
  {
   "cell_type": "markdown",
   "metadata": {},
   "source": [
    "Before we can assess / vectorize each tweet, we need to build a vocabulary which we will use for comparing to other tweets.\n",
    "\n",
    "While we are looking at all of the words, it would be beneficial in this case to remove words that only occur once in the whole dataset. This is mainly to remove names to narrow down what data is actually useful for classification.\n",
    "\n",
    "After we build our vocabulary, let's add the frequencies of each word as the contents of the cells of our dataframe."
   ]
  },
  {
   "cell_type": "code",
   "execution_count": 871,
   "metadata": {},
   "outputs": [],
   "source": [
    "# Build the initial array of vocabulary words from all of the tweets\n",
    "all_vocab = tweets_df[\"Pre-processed\"].values\n",
    "\n",
    "# Put all the words into one array without sub-lists, ignoring the NaN cases\n",
    "vocab_array = []\n",
    "for item in all_vocab:\n",
    "    if not isinstance(item, float):\n",
    "        for elem in item:\n",
    "          vocab_array.append(elem)\n",
    "\n",
    "# Count up how often the words in the vocab_array occur\n",
    "word_counts = {}\n",
    "for word in vocab_array:\n",
    "  if word in word_counts:\n",
    "    word_counts[word] += 1\n",
    "  else:\n",
    "    word_counts[word] = 1\n",
    "   \n",
    "# Make a new array of only the words we will use for classification\n",
    "relevant_words = []\n",
    "for word in word_counts:\n",
    "   if word_counts[word] > 1:\n",
    "      relevant_words.append(word)"
   ]
  },
  {
   "cell_type": "markdown",
   "metadata": {},
   "source": [
    "Now that we have vectorized our tweets, we can finally begin training our model. We will be using sci-kit learn to do Naive-Bayes multinomial classification. In other words, we will predict the probability that \"POTENTIAL_SUICIDE_POST\" given x words are present in the tweet. Our features (X) are the wrods in the tweets, while our response variable (y) is the label."
   ]
  },
  {
   "cell_type": "code",
   "execution_count": 872,
   "metadata": {},
   "outputs": [
    {
     "name": "stdout",
     "output_type": "stream",
     "text": [
      "                        precision    recall  f1-score   support\n",
      "\n",
      "      NOT_SUICIDE_POST       0.97      0.84      0.90       228\n",
      "POTENTIAL_SUICIDE_POST       0.77      0.96      0.86       129\n",
      "\n",
      "              accuracy                           0.88       357\n",
      "             macro avg       0.87      0.90      0.88       357\n",
      "          weighted avg       0.90      0.88      0.88       357\n",
      "\n"
     ]
    }
   ],
   "source": [
    "# Select the data that we need\n",
    "train_tweets = train_data[\"Pre-processed\"]  # List of pre-processed training tweets\n",
    "test_tweets = test_data[\"Pre-processed\"]    # List of pre-processed test tweets\n",
    "labels_train = train_data[\"Suicide\"]        # Corresponding labels for training tweets\n",
    "labels_test = test_data[\"Suicide\"]          # Corresponding labels for test tweets\n",
    "\n",
    "# Currently, each tweet is a list of strings ex: [\"this\", \"is\", \"how\", \"tweets\", \"look\"]\n",
    "train_tweets = [\" \".join(tweet_words) for tweet_words in train_tweets]\n",
    "test_tweets = [\" \".join(tweet_words) for tweet_words in test_tweets]\n",
    "\n",
    "# Now train_tweets is a list of strings where each string contains the words of a pre-processed tweet\n",
    "# ex: \"this is how tweets look\"\n",
    "# Now the vectorizer can interpret this tweet\n",
    "\n",
    "# Use the vectorizer\n",
    "vectorizer = CountVectorizer(vocabulary=relevant_words) # Create an instance of the vectorizer\n",
    "X_train = vectorizer.transform(train_tweets)            # Transform pre-processed tweets into a numerical feature matrix\n",
    "X_test = vectorizer.transform(test_tweets)              # Gets the frequency of each word for each tweet\n",
    "\n",
    "# Train the classifier\n",
    "classifier = MultinomialNB()          # Create an instance of the classifier\n",
    "classifier.fit(X_train, labels_train) # Fit the classifier on the training data along with the corresponding labels\n",
    "\n",
    "# Calculate probabilities / predict\n",
    "predicted_labels = classifier.predict(X_test)\n",
    "\n",
    "# Evaluate the accuracy\n",
    "print(classification_report(labels_test, predicted_labels))"
   ]
  },
  {
   "cell_type": "markdown",
   "metadata": {},
   "source": [
    "Let's interpret this classification report. Since the labels are shuffled each time the code is run, the numbers mentioned here will vary. Currently this is the report:"
   ]
  },
  {
   "cell_type": "markdown",
   "metadata": {},
   "source": [
    "|                   | precision | recall | f1-score | support |\n",
    "|-------------------|-----------|--------|----------|---------|\n",
    "| NOT_SUICIDE_POST  | 0.94      | 0.82   | 0.88     | 204     |\n",
    "| POTENTIAL_SUICIDE_POST | 0.80  | 0.93   | 0.86     | 153     |\n",
    "| accuracy          |           |        | 0.87     | 357     |\n",
    "| macro avg         | 0.87      | 0.88   | 0.87     | 357     |\n",
    "| weighted avg      | 0.88      | 0.87   | 0.87     | 357     |\n"
   ]
  },
  {
   "cell_type": "markdown",
   "metadata": {},
   "source": [
    "### The difference between precision and recall:\n",
    "#### Precision\n",
    "\n",
    "Precision focuses on the accuracy of positive predictions made by the classifier. It answers the question: \"Of all the instances predicted as positive, how many are actually positive?\"\n",
    "\n",
    "Mathematically, precision is defined as:\n",
    "\n",
    "Precision = TP / (TP + FP)\n",
    "\n",
    "Where:\n",
    "\n",
    "TP (True Positives) are the instances correctly predicted as positive.\n",
    "FP (False Positives) are the instances incorrectly predicted as positive when they are actually negative.\n",
    "\n",
    "\"If the classifier predicts POTENTIAL_SUICIDE_POST, the probability that it is indeed POTENTIAL_SUICIDE_POST.\"\n",
    "\n",
    "#### Recall\n",
    "Recall, also known as sensitivity or true positive rate, focuses on the ability of the classifier to correctly identify all positive instances. It answers the question: \"Of all the actual positive instances, how many did the classifier correctly predict?\"\n",
    "\n",
    "Mathematically, recall is defined as:\n",
    "\n",
    "Recall = TP / (TP + FN)\n",
    "\n",
    "Where:\n",
    "\n",
    "TP (True Positives) are the instances correctly predicted as positive.\n",
    "FN (False Negatives) are the instances incorrectly predicted as negative when they are actually positive.\n",
    "\n",
    "\"If a tweet is truly POTENTIAL_SUICIDE_POST, the probability that the classifier will correctly identify it as POTENTIAL_SUICIDE_POST.\"\n",
    "\n",
    "### f1-score\n",
    "The F1-score is the harmonic mean of precision and recall. It provides a balanced measure that considers both false positives and false negatives. An F1-score of 0.88 for the \"NOT_SUICIDE_POST\" class indicates a good balance between precision and recall for that class.\n",
    "\n",
    "### Support\n",
    "Support represents the number of instances of each class in the test dataset. For \"NOT_SUICIDE_POST,\" there are 204 instances, and for \"POTENTIAL_SUICIDE_POST,\" there are 153 instances.\n",
    "\n",
    "### Accuracy\n",
    "Accuracy is the overall proportion of correctly predicted instances among all instances. The overall accuracy of the model is 0.87, which means that 87% of the instances in the test dataset were classified correctly.\n",
    "\n",
    "### Macro average\n",
    "The macro average is the average of precision, recall, and F1-score across all classes. In this case, it's approximately 0.87, indicating a balanced performance across classes.\n",
    "\n",
    "### Weighted average\n",
    "The weighted average takes into account the class distribution. It's calculated by weighting the metrics by the support of each class. The weighted average F1-score (0.87) indicates the overall model performance, considering the number of instances in each class.  \n"
   ]
  },
  {
   "cell_type": "markdown",
   "metadata": {},
   "source": [
    "#### ------------------------------------------------------------------------------------------------------------------------------------------------------"
   ]
  },
  {
   "cell_type": "markdown",
   "metadata": {},
   "source": [
    "### Data visualizations\n",
    "To better understand where our model falls short, let's see how it does classifying different lengths of tweets."
   ]
  },
  {
   "cell_type": "code",
   "execution_count": 873,
   "metadata": {},
   "outputs": [
    {
     "data": {
      "text/html": [
       "<div>\n",
       "<style scoped>\n",
       "    .dataframe tbody tr th:only-of-type {\n",
       "        vertical-align: middle;\n",
       "    }\n",
       "\n",
       "    .dataframe tbody tr th {\n",
       "        vertical-align: top;\n",
       "    }\n",
       "\n",
       "    .dataframe thead th {\n",
       "        text-align: right;\n",
       "    }\n",
       "</style>\n",
       "<table border=\"1\" class=\"dataframe\">\n",
       "  <thead>\n",
       "    <tr style=\"text-align: right;\">\n",
       "      <th></th>\n",
       "      <th>Suicide</th>\n",
       "      <th>Pre-processed</th>\n",
       "      <th>length</th>\n",
       "    </tr>\n",
       "  </thead>\n",
       "  <tbody>\n",
       "    <tr>\n",
       "      <th>2</th>\n",
       "      <td>POTENTIAL_SUICIDE_POST</td>\n",
       "      <td>[dizzyhrvi, crap, took, forev, put, togeth, iâ...</td>\n",
       "      <td>11</td>\n",
       "    </tr>\n",
       "    <tr>\n",
       "      <th>7</th>\n",
       "      <td>POTENTIAL_SUICIDE_POST</td>\n",
       "      <td>[jakepaul, jamescharl, loganpaul, shane, made,...</td>\n",
       "      <td>13</td>\n",
       "    </tr>\n",
       "    <tr>\n",
       "      <th>9</th>\n",
       "      <td>POTENTIAL_SUICIDE_POST</td>\n",
       "      <td>[hate, life, lmao, hope, die, soon, sumn, tire...</td>\n",
       "      <td>9</td>\n",
       "    </tr>\n",
       "    <tr>\n",
       "      <th>13</th>\n",
       "      <td>POTENTIAL_SUICIDE_POST</td>\n",
       "      <td>[aw, habit, avoid, write, paper, watch, instag...</td>\n",
       "      <td>14</td>\n",
       "    </tr>\n",
       "    <tr>\n",
       "      <th>16</th>\n",
       "      <td>POTENTIAL_SUICIDE_POST</td>\n",
       "      <td>[akwesiquan, animeesay, want, say, ill, never,...</td>\n",
       "      <td>16</td>\n",
       "    </tr>\n",
       "    <tr>\n",
       "      <th>...</th>\n",
       "      <td>...</td>\n",
       "      <td>...</td>\n",
       "      <td>...</td>\n",
       "    </tr>\n",
       "    <tr>\n",
       "      <th>1775</th>\n",
       "      <td>POTENTIAL_SUICIDE_POST</td>\n",
       "      <td>[rt, kindfashionni, pleas, see, need, human, d...</td>\n",
       "      <td>14</td>\n",
       "    </tr>\n",
       "    <tr>\n",
       "      <th>1776</th>\n",
       "      <td>POTENTIAL_SUICIDE_POST</td>\n",
       "      <td>[know, damn, well, hate, take, anyway, http]</td>\n",
       "      <td>7</td>\n",
       "    </tr>\n",
       "    <tr>\n",
       "      <th>1778</th>\n",
       "      <td>POTENTIAL_SUICIDE_POST</td>\n",
       "      <td>[damn, crazi, life, mine]</td>\n",
       "      <td>4</td>\n",
       "    </tr>\n",
       "    <tr>\n",
       "      <th>1779</th>\n",
       "      <td>POTENTIAL_SUICIDE_POST</td>\n",
       "      <td>[day, feel, deepli, depress, highli, sensit, p...</td>\n",
       "      <td>52</td>\n",
       "    </tr>\n",
       "    <tr>\n",
       "      <th>1781</th>\n",
       "      <td>POTENTIAL_SUICIDE_POST</td>\n",
       "      <td>[stand, supermarket, line, think, feel, jump, ...</td>\n",
       "      <td>98</td>\n",
       "    </tr>\n",
       "  </tbody>\n",
       "</table>\n",
       "<p>659 rows × 3 columns</p>\n",
       "</div>"
      ],
      "text/plain": [
       "                     Suicide  \\\n",
       "2     POTENTIAL_SUICIDE_POST   \n",
       "7     POTENTIAL_SUICIDE_POST   \n",
       "9     POTENTIAL_SUICIDE_POST   \n",
       "13    POTENTIAL_SUICIDE_POST   \n",
       "16    POTENTIAL_SUICIDE_POST   \n",
       "...                      ...   \n",
       "1775  POTENTIAL_SUICIDE_POST   \n",
       "1776  POTENTIAL_SUICIDE_POST   \n",
       "1778  POTENTIAL_SUICIDE_POST   \n",
       "1779  POTENTIAL_SUICIDE_POST   \n",
       "1781  POTENTIAL_SUICIDE_POST   \n",
       "\n",
       "                                          Pre-processed  length  \n",
       "2     [dizzyhrvi, crap, took, forev, put, togeth, iâ...      11  \n",
       "7     [jakepaul, jamescharl, loganpaul, shane, made,...      13  \n",
       "9     [hate, life, lmao, hope, die, soon, sumn, tire...       9  \n",
       "13    [aw, habit, avoid, write, paper, watch, instag...      14  \n",
       "16    [akwesiquan, animeesay, want, say, ill, never,...      16  \n",
       "...                                                 ...     ...  \n",
       "1775  [rt, kindfashionni, pleas, see, need, human, d...      14  \n",
       "1776       [know, damn, well, hate, take, anyway, http]       7  \n",
       "1778                          [damn, crazi, life, mine]       4  \n",
       "1779  [day, feel, deepli, depress, highli, sensit, p...      52  \n",
       "1781  [stand, supermarket, line, think, feel, jump, ...      98  \n",
       "\n",
       "[659 rows x 3 columns]"
      ]
     },
     "execution_count": 873,
     "metadata": {},
     "output_type": "execute_result"
    }
   ],
   "source": [
    "suicide_tweets = (tweets_df[tweets_df[\"Suicide\"] == \"POTENTIAL_SUICIDE_POST\"]).drop([\"Tweet\"], axis=1)\n",
    "not_suicide_tweets = tweets_df[tweets_df[\"Suicide\"] == \"NOT_SUICIDE_POST\"].drop([\"Tweet\"], axis=1)\n",
    "\n",
    "def get_tweet_length(suicide_or_not) -> list[int]:\n",
    "  lengths = []\n",
    "  for tweet in suicide_or_not[\"Pre-processed\"]:\n",
    "    length = len(tweet)\n",
    "    lengths.append(length)\n",
    "  return lengths\n",
    "\n",
    "suicide_tweets_length = get_tweet_length(suicide_tweets)\n",
    "not_suicide_tweets_length = get_tweet_length(not_suicide_tweets)\n",
    "\n",
    "suicide_tweets.loc[:,\"length\"] = suicide_tweets_length\n",
    "not_suicide_tweets.loc[:, \"length\"] = not_suicide_tweets_length\n",
    "\n",
    "suicide_tweets\n"
   ]
  },
  {
   "cell_type": "markdown",
   "metadata": {},
   "source": [
    "Plot the distribution of tweet lengths (in terms of word count) for NOT_SUICIDE_POST."
   ]
  },
  {
   "cell_type": "code",
   "execution_count": 874,
   "metadata": {},
   "outputs": [
    {
     "data": {
      "image/png": "[encoded data removed]",
      "text/plain": [
       "<Figure size 1000x600 with 1 Axes>"
      ]
     },
     "metadata": {},
     "output_type": "display_data"
    },
    {
     "name": "stdout",
     "output_type": "stream",
     "text": [
      "Summary of NOT_SUICIDE:\n",
      " count    1126.000000\n",
      "mean        7.486679\n",
      "std         3.885620\n",
      "min         1.000000\n",
      "25%         4.000000\n",
      "50%         7.000000\n",
      "75%        10.000000\n",
      "max        25.000000\n",
      "dtype: float64\n",
      " median: 7.0\n"
     ]
    }
   ],
   "source": [
    "x_range = (0, max(suicide_tweets_length)) \n",
    "\n",
    "sns.set(style=\"whitegrid\")\n",
    "plt.figure(figsize=(10, 6))\n",
    "\n",
    "sns.histplot(not_suicide_tweets_length, bins=20, kde=True, color=\"blue\", binrange=x_range)\n",
    "plt.title(f\"Distribution of Tweet Lengths for NOT_SUICIDE_POST\")\n",
    "plt.xlabel(\"Number of Words in Tweet\")\n",
    "plt.ylabel(\"Frequency\")\n",
    "\n",
    "plt.show()\n",
    "\n",
    "# Five-number summary\n",
    "not_suicide_summary = pd.Series(not_suicide_tweets_length).describe(percentiles=[.25, .50, .75])\n",
    "print(f\"Summary of NOT_SUICIDE:\\n {not_suicide_summary}\\n median: {(pd.Series(not_suicide_tweets_length)).median()}\")"
   ]
  },
  {
   "cell_type": "code",
   "execution_count": 875,
   "metadata": {},
   "outputs": [
    {
     "data": {
      "image/png": "[encoded data removed]",
      "text/plain": [
       "<Figure size 1000x600 with 1 Axes>"
      ]
     },
     "metadata": {},
     "output_type": "display_data"
    },
    {
     "name": "stdout",
     "output_type": "stream",
     "text": [
      "Summary of SUICIDE:\n",
      " count    659.000000\n",
      "mean      15.054628\n",
      "std       14.832091\n",
      "min        1.000000\n",
      "25%        8.000000\n",
      "50%       12.000000\n",
      "75%       15.000000\n",
      "max      115.000000\n",
      "dtype: float64 \n",
      " median: 12.0\n"
     ]
    }
   ],
   "source": [
    "sns.set(style=\"whitegrid\")\n",
    "plt.figure(figsize=(10, 6))\n",
    "\n",
    "sns.histplot(suicide_tweets_length, bins=20, kde=True, color=\"blue\", binrange=x_range)\n",
    "plt.title(f\"Distribution of Tweet Lengths for POTENTIAL_SUICIDE_POST\")\n",
    "plt.xlabel(\"Number of Words in Tweet\")\n",
    "plt.ylabel(\"Frequency\")\n",
    "\n",
    "plt.show()\n",
    "\n",
    "# Five-number summary\n",
    "suicide_summary = pd.Series(suicide_tweets_length).describe(percentiles=[.25, .50, .75])\n",
    "print(f\"Summary of SUICIDE:\\n {suicide_summary} \\n median: {(pd.Series(suicide_tweets_length)).median()}\")"
   ]
  },
  {
   "cell_type": "markdown",
   "metadata": {},
   "source": [
    "The differences between these distributions is very interesting. Originally, it appeared that the NOT_SUICIDE_POST tweets had more variation because the distributionn was spread out more. When I changed the scale to be the same as the POTENTIAL_SUICIDE_POST scale and added a summary, it became clear that there is much more variation in the POTENTIAL_SUICIDE_POST category. We can do hypothesis testing to see if this difference is statistically significant.\n",
    "### Hypothesis testing"
   ]
  },
  {
   "cell_type": "markdown",
   "metadata": {},
   "source": [
    "Since the distributions aren't normally distributed and variance between the groups is not equal, we are limited in the tests that we can do. We can do a Mann-Whitney U test or a Welch's t-test. We will do a Welch's t-test, since we want to compare the groups' means and not their distributions.\n"
   ]
  },
  {
   "cell_type": "markdown",
   "metadata": {},
   "source": [
    "Step 1: Null and Alternative hypotheses: <br/>\n",
    "H0: there is no difference between the average word length of POTENTIAL_SUICIDE_POST tweets and NOT_SUICIDE_POST tweets.\n",
    "Ha: there is a difference between the average word length of POTENTIAL_SUICIDE_POST tweets and NOT_SUICIDE_POST tweets."
   ]
  },
  {
   "cell_type": "code",
   "execution_count": 876,
   "metadata": {},
   "outputs": [
    {
     "name": "stdout",
     "output_type": "stream",
     "text": [
      "t-value: 12.801326375242652\n",
      "Degrees of Freedom: 711.249412414707\n"
     ]
    }
   ],
   "source": [
    "n1 = len(suicide_tweets_length)\n",
    "n2 = len(not_suicide_tweets_length)\n",
    "\n",
    "# Step 2: Calcualte the means of the two samples\n",
    "x1 = pd.Series(suicide_tweets_length).mean()\n",
    "x2 = pd.Series(not_suicide_tweets_length).mean()\n",
    "\n",
    "# Step 3: Calculate the standard deviations of the two samples\n",
    "s1 = pd.Series(suicide_tweets_length).std()\n",
    "s2 = pd.Series(not_suicide_tweets_length).std()\n",
    "\n",
    "# Step 4: Calculate the t-value \n",
    "t_val = (x1 - x2) / (np.sqrt((s1 ** 2 / n1)) + (s2 ** 2 / n2))\n",
    "\n",
    "# Step 5: Calculate the degrees of freedom\n",
    "numerator = ((s1 ** 2 / n1) + (s2 ** 2 / n2)) ** 2\n",
    "denominator = (\n",
    "    ((s1 ** 2 / n1) ** 2 / (n1 - 1)) + ((s2 ** 2 / n2) ** 2 / (n2 - 1))\n",
    ")\n",
    "v = numerator/denominator\n",
    "print(\"t-value:\", t_val)\n",
    "print(\"Degrees of Freedom:\", v)"
   ]
  },
  {
   "cell_type": "markdown",
   "metadata": {},
   "source": [
    "We should calculate the p-value to make a conclusion.\n",
    "The p-value is the chance that, if there is no difference in the tweet lengths, the test statistic (t-value) is equal to 12.8 or is even further in the direction of the alternative."
   ]
  },
  {
   "cell_type": "code",
   "execution_count": 877,
   "metadata": {},
   "outputs": [
    {
     "name": "stdout",
     "output_type": "stream",
     "text": [
      "p-value: 0.0\n"
     ]
    }
   ],
   "source": [
    "import scipy.stats as stats\n",
    "\n",
    "# Calculate the p-value\n",
    "p_value = 2 * (1 - stats.t.cdf(abs(t_val), df=v))\n",
    "\n",
    "print(\"p-value:\", p_value)"
   ]
  },
  {
   "cell_type": "code",
   "execution_count": 878,
   "metadata": {},
   "outputs": [
    {
     "data": {
      "image/png": "[encoded data removed]",
      "text/plain": [
       "<Figure size 640x480 with 1 Axes>"
      ]
     },
     "metadata": {},
     "output_type": "display_data"
    },
    {
     "name": "stdout",
     "output_type": "stream",
     "text": [
      "Reject null hypothesis\n"
     ]
    }
   ],
   "source": [
    "import numpy as np\n",
    "import matplotlib.pyplot as plt\n",
    "\n",
    "# Calculate observed difference\n",
    "observed_diff = np.mean(suicide_tweets_length) - np.mean(not_suicide_tweets_length)\n",
    "\n",
    "# Pool data\n",
    "pooled_data = np.concatenate((suicide_tweets_length, not_suicide_tweets_length))\n",
    "\n",
    "# Number of simulations\n",
    "num_simulations = 10000\n",
    "\n",
    "# Initialize an array to store simulated test statistics\n",
    "simulated_diffs = []\n",
    "\n",
    "# Simulation loop\n",
    "for _ in range(num_simulations):\n",
    "    # Shuffle labels and calculate test statistic\n",
    "    np.random.shuffle(pooled_data)\n",
    "    simulated_diff = np.mean(pooled_data[:len(suicide_tweets_length)]) - np.mean(pooled_data[len(suicide_tweets_length):])\n",
    "    simulated_diffs.append(simulated_diff)\n",
    "\n",
    "# Calculate p-value\n",
    "p_value = (np.abs(simulated_diffs) >= np.abs(observed_diff)).mean()\n",
    "\n",
    "# Plot the distribution of simulated test statistics\n",
    "plt.hist(simulated_diffs, bins=50, density=True, alpha=0.7, color='blue', label='Simulated')\n",
    "plt.axvline(x=observed_diff, color='red', linestyle='dashed', linewidth=2, label='Observed')\n",
    "plt.xlabel('Difference in Average Word Length')\n",
    "plt.ylabel('Density')\n",
    "plt.title('Distribution of Simulated Test Statistics')\n",
    "plt.legend()\n",
    "plt.show()\n",
    "\n",
    "# Compare with significance level (e.g., 0.05)\n",
    "if p_value < 0.05:\n",
    "    print(\"Reject null hypothesis\")\n",
    "else:\n",
    "    print(\"Fail to reject null hypothesis\")\n"
   ]
  },
  {
   "cell_type": "markdown",
   "metadata": {},
   "source": [
    "By comparing this to a two-sided t-test table, using an alpha level of 0.05 and 1000 degrees of freedom, we get a critical value of 1.962. Our calculated t-value is much higher than this, at 12.801. We also obtained a p-value of about 0.0, meaning there is about a 0.0% chance that the differences observed in the tweet lengths occured due to random chance. This can be seen by comparing the simulated differences above and the observed difference.\n",
    "\n",
    "We can say that the tweets labeled \"POTENTIAL_SUICIDE_POST\" tend to be longer, which is suggestive of the mental state of the user. Maybe it is that longer tweets equates to having more mental stress or even anger. We cannot say for certain why these tweets are longer, but it is clear that tweet length is a factor. \n",
    "\n",
    "It may be worth noting that this statistical test was done on the pre-processed tweets, meaning that tweets marked as \"POTENTIAL_SUICIDE_POST\" tend to have more words that have been determined to hold more meaning since stopwords, names, and special characters were removed."
   ]
  }
 ],
 "metadata": {
  "kernelspec": {
   "display_name": "Python 3.10.5 64-bit",
   "language": "python",
   "name": "python3"
  },
  "language_info": {
   "codemirror_mode": {
    "name": "ipython",
    "version": 3
   },
   "file_extension": ".py",
   "mimetype": "text/x-python",
   "name": "python",
   "nbconvert_exporter": "python",
   "pygments_lexer": "ipython3",
   "version": "3.10.5"
  },
  "orig_nbformat": 4,
  "vscode": {
   "interpreter": {
    "hash": "aee8b7b246df8f9039afb4144a1f6fd8d2ca17a180786b69acc140d282b71a49"
   }
  }
 },
 "nbformat": 4,
 "nbformat_minor": 2
}
